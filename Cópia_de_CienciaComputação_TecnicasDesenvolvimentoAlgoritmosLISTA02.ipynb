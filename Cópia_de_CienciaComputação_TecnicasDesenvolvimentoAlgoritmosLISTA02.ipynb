{
  "nbformat": 4,
  "nbformat_minor": 0,
  "metadata": {
    "colab": {
      "provenance": [],
      "include_colab_link": true
    },
    "kernelspec": {
      "name": "python3",
      "display_name": "Python 3"
    },
    "language_info": {
      "name": "python"
    }
  },
  "cells": [
    {
      "cell_type": "markdown",
      "metadata": {
        "id": "view-in-github",
        "colab_type": "text"
      },
      "source": [
        "<a href=\"https://colab.research.google.com/github/Euyagonunez/exercicio01_TecnicasdeDesenvolvimentodeAlg_YagoNunes/blob/main/C%C3%B3pia_de_CienciaComputa%C3%A7%C3%A3o_TecnicasDesenvolvimentoAlgoritmosLISTA02.ipynb\" target=\"_parent\"><img src=\"https://colab.research.google.com/assets/colab-badge.svg\" alt=\"Open In Colab\"/></a>"
      ]
    },
    {
      "cell_type": "code",
      "execution_count": null,
      "metadata": {
        "colab": {
          "base_uri": "https://localhost:8080/"
        },
        "id": "QtYSmVG5P9wv",
        "outputId": "704f28c7-5c3e-437d-d62d-5c85fee0c7cd"
      },
      "outputs": [
        {
          "output_type": "stream",
          "name": "stdout",
          "text": [
            "Digite um número real:10\n",
            "O número é menor que 10\n"
          ]
        }
      ],
      "source": [
        "#01 - Elabore um programa que solicite ao usuário um número real e ao final imprima na tela se o número informado é maior que 10 (dez)\n",
        "num = float(input(\"Digite um número real:\"))\n",
        "if num > 10:\n",
        "  print(\"O número é maior que 10\")\n",
        "else:\n",
        "  print(\"O número é menor que 10\")"
      ]
    },
    {
      "cell_type": "code",
      "source": [
        "#02 - Escreva um programa que solicite ao usuário um número real e ao final imprima na tela se o número informado é maior ou igual a dez ou menor que 10 (dez)\n",
        "num = float(input(\"Digite um número real:\"))\n",
        "if num >= 10:\n",
        "  print(\"O número é maior ou igual a 10\")\n",
        "else:\n",
        "  print(\"O número é menor que 10\")"
      ],
      "metadata": {
        "colab": {
          "base_uri": "https://localhost:8080/"
        },
        "id": "jPTIDQkDRXlN",
        "outputId": "0d3bfa60-ff14-45a6-b912-5e5b0cd16571"
      },
      "execution_count": null,
      "outputs": [
        {
          "output_type": "stream",
          "name": "stdout",
          "text": [
            "Digite um número real:9\n",
            "O número é menor que 10\n"
          ]
        }
      ]
    },
    {
      "cell_type": "code",
      "source": [
        "#03 - Elabore um algoritmo que solicite ao usuário um número real e ao final imprima na tela se o número informado é maior que dez, se é menor que dez, ou se é igual a dez\n",
        "num = float(input(\"Digite um número real:\"))\n",
        "if num > 10:\n",
        "  print(\"O número é maior que 10\")\n",
        "elif num < 10:\n",
        "  print(\"O número é menor que 10\")\n",
        "elif num == 10:\n",
        "  print(\"O número é igual a 10\")\n"
      ],
      "metadata": {
        "colab": {
          "base_uri": "https://localhost:8080/"
        },
        "id": "QOftJpsMSO8x",
        "outputId": "1755ca5a-af29-44a0-ff56-193d1e89658a"
      },
      "execution_count": null,
      "outputs": [
        {
          "output_type": "stream",
          "name": "stdout",
          "text": [
            "Digite um número real:9\n",
            "O número é menor que 10\n"
          ]
        }
      ]
    },
    {
      "cell_type": "code",
      "source": [
        "#04 - Elabore um algoritmo que solicite ao usuário um número real e ao final imprima na tela se o número informado é positivo, negativo ou nulo (zero)\n",
        "num = float(input(\"Digite um número real:\"))\n",
        "if num > 0:\n",
        "  print(\"O número é positivo\")\n",
        "elif num < 0:\n",
        "  print(\"O número é negativo\")\n",
        "elif num == 0:\n",
        "  print(\"O número é nulo\")"
      ],
      "metadata": {
        "colab": {
          "base_uri": "https://localhost:8080/"
        },
        "id": "F88zJpMaTri7",
        "outputId": "4fd30d8e-0beb-41dd-8f48-7a5f41eae4b6"
      },
      "execution_count": null,
      "outputs": [
        {
          "output_type": "stream",
          "name": "stdout",
          "text": [
            "Digite um número real:3\n",
            "O número é positivo\n"
          ]
        }
      ]
    },
    {
      "cell_type": "code",
      "source": [
        "#05 - Elabore um algoritmo que leia um número inteiro e imprima uma das mensagens: é múltiplo de 3, ou, não é múltiplo de 3\n",
        "num = int(input(\"Digite um número inteiro:\"))\n",
        "if num % 3 == 0:\n",
        "  print(\"O número é multiplo de 3\")\n",
        "else:\n",
        "  print(\"O número não é multiplo de 3\")\n"
      ],
      "metadata": {
        "colab": {
          "base_uri": "https://localhost:8080/"
        },
        "id": "Rao7y6leVbNr",
        "outputId": "dda36982-d781-48fc-883b-40a694e3474b"
      },
      "execution_count": null,
      "outputs": [
        {
          "output_type": "stream",
          "name": "stdout",
          "text": [
            "Digite um número inteiro:6\n",
            "O número é multiplo de 3\n"
          ]
        }
      ]
    },
    {
      "cell_type": "code",
      "source": [
        "#06 - Refazer o exercício anterior, solicitando antes o múltiplo a ser testado\n",
        "num = int(input(\"Digite um número inteiro:\"))\n",
        "mult = int(input(\"Digite um múltiplo:\"))\n",
        "if num % mult == 0:\n",
        "  print(\"O número é multiplo do múltiplo\")\n",
        "else:\n",
        "  print(\"O número não é multiplo do múltiplo\")\n"
      ],
      "metadata": {
        "colab": {
          "base_uri": "https://localhost:8080/"
        },
        "id": "I-82bNcrWjMD",
        "outputId": "579376b1-a553-42ed-f28e-309e9a4ec910"
      },
      "execution_count": null,
      "outputs": [
        {
          "output_type": "stream",
          "name": "stdout",
          "text": [
            "Digite um número inteiro:6\n",
            "Digite um múltiplo:6\n",
            "O número é multiplo do múltiplo\n"
          ]
        }
      ]
    },
    {
      "cell_type": "code",
      "source": [
        "#07 - Desenvolva um algoritmo que classifique um número inteiro fornecido pelo usuário como par ou ímpar\n",
        "num = int(input(\"Digite um número: \"))\n",
        "if num % 2 == 0:\n",
        "  print(\"O número é par\")\n",
        "else:\n",
        "  print(\"O número é impar\")"
      ],
      "metadata": {
        "colab": {
          "base_uri": "https://localhost:8080/",
          "height": 228
        },
        "id": "ayBma13eWkFr",
        "outputId": "2122e63d-ed2f-47f1-c5a5-0eea2712418a"
      },
      "execution_count": null,
      "outputs": [
        {
          "name": "stdout",
          "output_type": "stream",
          "text": [
            "Digite um número: \n"
          ]
        },
        {
          "output_type": "error",
          "ename": "ValueError",
          "evalue": "invalid literal for int() with base 10: ''",
          "traceback": [
            "\u001b[0;31m---------------------------------------------------------------------------\u001b[0m",
            "\u001b[0;31mValueError\u001b[0m                                Traceback (most recent call last)",
            "\u001b[0;32m/tmp/ipython-input-2553220449.py\u001b[0m in \u001b[0;36m<cell line: 0>\u001b[0;34m()\u001b[0m\n\u001b[1;32m      1\u001b[0m \u001b[0;31m#07 - Desenvolva um algoritmo que classifique um número inteiro fornecido pelo usuário como par ou ímpar\u001b[0m\u001b[0;34m\u001b[0m\u001b[0;34m\u001b[0m\u001b[0m\n\u001b[0;32m----> 2\u001b[0;31m \u001b[0mnum\u001b[0m \u001b[0;34m=\u001b[0m \u001b[0mint\u001b[0m\u001b[0;34m(\u001b[0m\u001b[0minput\u001b[0m\u001b[0;34m(\u001b[0m\u001b[0;34m\"Digite um número: \"\u001b[0m\u001b[0;34m)\u001b[0m\u001b[0;34m)\u001b[0m\u001b[0;34m\u001b[0m\u001b[0;34m\u001b[0m\u001b[0m\n\u001b[0m\u001b[1;32m      3\u001b[0m \u001b[0;32mif\u001b[0m \u001b[0mnum\u001b[0m \u001b[0;34m%\u001b[0m \u001b[0;36m2\u001b[0m \u001b[0;34m==\u001b[0m \u001b[0;36m0\u001b[0m\u001b[0;34m:\u001b[0m\u001b[0;34m\u001b[0m\u001b[0;34m\u001b[0m\u001b[0m\n\u001b[1;32m      4\u001b[0m   \u001b[0mprint\u001b[0m\u001b[0;34m(\u001b[0m\u001b[0;34m\"O número é par\"\u001b[0m\u001b[0;34m)\u001b[0m\u001b[0;34m\u001b[0m\u001b[0;34m\u001b[0m\u001b[0m\n\u001b[1;32m      5\u001b[0m \u001b[0;32melse\u001b[0m\u001b[0;34m:\u001b[0m\u001b[0;34m\u001b[0m\u001b[0;34m\u001b[0m\u001b[0m\n",
            "\u001b[0;31mValueError\u001b[0m: invalid literal for int() with base 10: ''"
          ]
        }
      ]
    },
    {
      "cell_type": "code",
      "source": [
        "#08 - Elabore um algoritmo que leia um número, e se ele for maior do que 20, imprimir a metade desse número, caso contrário, imprimir o dobro do número\n",
        "num = float(input(\"Digite um número:\"))\n",
        "if num > 20:\n",
        "  print(\"A metade é: \", num / 2)\n",
        "else:\n",
        "  print(\"O dobro desse número é: \", num * 2)"
      ],
      "metadata": {
        "id": "pLBl3MhlcuMy"
      },
      "execution_count": null,
      "outputs": []
    },
    {
      "cell_type": "code",
      "source": [
        "#09 - Elabore um algoritmo que leia dois números inteiros e realize a adição; caso o resultado seja maior que 10, imprima o quadrado do resultado, caso contrário, imprima a metade dele\n",
        "num1 = int(input(\"Digite o primeiro número:\"))\n",
        "num2 = int(input(\"Digite o segundo número: \"))\n",
        "soma = num1 + num2\n",
        "if soma > 10:\n",
        "  print(\"O quadrado desse número é: \", soma ** 2)\n",
        "else:\n",
        "  print(\"A metade desse número é: \", soma / 2)"
      ],
      "metadata": {
        "id": "g3HMjV6odrMD"
      },
      "execution_count": null,
      "outputs": []
    },
    {
      "cell_type": "code",
      "source": [
        "#10 - O sistema de avaliação de determinada disciplina é composto por três provas. A primeira prova tem peso 2, a segunda tem peso 3 e a terceira tem peso 5. Considerando que a média para aprovação é 6.0, faça um algoritmo para calcular a média final de um aluno desta disciplina e dizer se o aluno foi aprovado ou não\n",
        "nota1 = float(input(\"Digite a primeira nota: \"))\n",
        "nota2 = float(input(\"Digite a segunda nota: \"))\n",
        "nota3 = float(input(\"Digite a terceira nota: \"))\n",
        "media = (nota1 * 2 + nota2 * 3 + nota3 * 5) / 10\n",
        "if media >= 6.0:\n",
        "  print(\"Aprovado\")\n",
        "else:\n",
        "  print(\"Reprovado\")"
      ],
      "metadata": {
        "id": "BF_bmOk7e05h"
      },
      "execution_count": null,
      "outputs": []
    },
    {
      "cell_type": "code",
      "source": [
        "#11 - Elabore um algoritmo que leia o nome e o peso de duas pessoas e imprima o nome da pessoa mais pesada\n",
        "nome1 = input(\"Digite o nome da primeira pessoa: \")\n",
        "peso1 = float(input(\"Digite o peso da primeira pessoa: \"))\n",
        "nome2 = input(\"Digite o nome da segunda pessoa: \")\n",
        "peso2 = float(input(\"Digite o peso da segunda pessoa: \"))\n",
        "if peso1 > peso2:\n",
        "  print(\"A pessoa mais pesada é: \", nome1)\n",
        "else:\n",
        "  print(\"A pessoa mais pesada é: \", nome2)"
      ],
      "metadata": {
        "id": "GK9jPwYWfZSm"
      },
      "execution_count": null,
      "outputs": []
    },
    {
      "cell_type": "code",
      "source": [
        "#12 - Elabore um algoritmo que indique se um número digitado está compreendido entre 20 e 90, ou não\n",
        "num = float(input(\"Digite um número: \"))\n",
        "if num >= 20 and num <= 90:\n",
        "  print(\"O número está entre 20 e 90\")\n",
        "else:\n",
        "  print(\"O número não está entre 20 e 90\")"
      ],
      "metadata": {
        "id": "msb-OZwNft2P"
      },
      "execution_count": null,
      "outputs": []
    },
    {
      "cell_type": "code",
      "source": [
        "#13 - Elabore um algoritmo que leia dois números e imprima qual é maior, qual é menor, ou se são iguais\n",
        "num1 = float(input(\"Digite o primeiro número: \"))\n",
        "num2 = float(input(\"Digite o segundo número: \"))\n",
        "if num1 > num2:\n",
        "  print(\"O primeiro número é maior que o segundo\")\n",
        "elif num1 < num2:\n",
        "  print(\"O primeiro número é menor que o segundo\")\n",
        "else:\n",
        "  print(\"Os números são iguais\")"
      ],
      "metadata": {
        "id": "bQGlHMpYf6nY"
      },
      "execution_count": null,
      "outputs": []
    },
    {
      "cell_type": "code",
      "source": [
        "#14 - Escreva um programa em linguagem C que solicite ao usuário a média para aprovação em um curso e em seguida solicite ao usuário o nome, sexo e as 03 notas do aluno e ao final imprima a frase: \"O aluno XXXXX foi aprovado com media YY\" considerando o gênero do(a) aluno(a) e se foi aprovado(a) ou reprovado(a)\n",
        "code = r'''\n",
        "#include <stdio.h>\n",
        "\n",
        "int main() {\n",
        "    float media_aprovacao, nota1, nota2, nota3, media;\n",
        "    char nome[50];\n",
        "    char sexo;\n",
        "\n",
        "    printf(\"Digite a media para aprovacao: \");\n",
        "    scanf(\"%f\", &media_aprovacao);\n",
        "\n",
        "    printf(\"Digite o nome do aluno: \");\n",
        "    scanf(\"%s\", nome);\n",
        "\n",
        "    printf(\"Digite o sexo do aluno (M/F): \");\n",
        "    scanf(\" %c\", &sexo);\n",
        "\n",
        "    printf(\"Digite as 3 notas do aluno: \");\n",
        "    scanf(\"%f %f %f\", &nota1, &nota2, &nota3);\n",
        "\n",
        "    media = (nota1 + nota2 + nota3) / 3.0;\n",
        "\n",
        "    if (media >= media_aprovacao) {\n",
        "        if (sexo == 'M' || sexo == 'm') {\n",
        "            printf(\"O aluno %s foi aprovado com media %.2f\\n\", nome, media);\n",
        "        } else {\n",
        "            printf(\"A aluna %s foi aprovada com media %.2f\\n\", nome, media);\n",
        "        }\n",
        "    } else {\n",
        "        if (sexo == 'M' || sexo == 'm') {\n",
        "            printf(\"O aluno %s foi reprovado com media %.2f\\n\", nome, media);\n",
        "        } else {\n",
        "            printf(\"A aluna %s foi reprovada com media %.2f\\n\", nome, media);\n",
        "        }\n",
        "    }\n",
        "\n",
        "    return 0;\n",
        "}\n",
        "'''\n",
        "\n",
        "\n",
        "with open(\"aluno.c\", \"w\") as f:\n",
        "    f.write(code)\n",
        "\n",
        "\n",
        "!gcc aluno.c -o aluno\n",
        "\n",
        "\n",
        "!./aluno"
      ],
      "metadata": {
        "id": "Zx9V0kw1gXEb"
      },
      "execution_count": null,
      "outputs": []
    }
  ]
}