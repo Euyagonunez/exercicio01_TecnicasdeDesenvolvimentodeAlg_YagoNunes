{
  "nbformat": 4,
  "nbformat_minor": 0,
  "metadata": {
    "colab": {
      "provenance": [],
      "authorship_tag": "ABX9TyPBevVZtvgehSACVrDOJarh",
      "include_colab_link": true
    },
    "kernelspec": {
      "name": "python3",
      "display_name": "Python 3"
    },
    "language_info": {
      "name": "python"
    }
  },
  "cells": [
    {
      "cell_type": "markdown",
      "metadata": {
        "id": "view-in-github",
        "colab_type": "text"
      },
      "source": [
        "<a href=\"https://colab.research.google.com/github/Euyagonunez/exercicio01_TecnicasdeDesenvolvimentodeAlg_YagoNunes/blob/main/Untitled0.ipynb\" target=\"_parent\"><img src=\"https://colab.research.google.com/assets/colab-badge.svg\" alt=\"Open In Colab\"/></a>"
      ]
    },
    {
      "cell_type": "code",
      "execution_count": 17,
      "metadata": {
        "colab": {
          "base_uri": "https://localhost:8080/"
        },
        "id": "rjNK5GwoRn8c",
        "outputId": "409ecb10-3edc-43fb-b50e-84bbe0cae0fe"
      },
      "outputs": [
        {
          "output_type": "stream",
          "name": "stdout",
          "text": [
            "Digite um número real:65\n",
            "O número é maior que 10\n"
          ]
        }
      ],
      "source": [
        "#01 - Elabore um programa que solicite ao usuário um número real e ao final imprima na tela se o número informado é maior que 10 (dez)\n",
        "num = float(input(\"Digite um número real:\"))\n",
        "if num > 10:\n",
        "  print(\"O número é maior que 10\")\n",
        "else:\n",
        "  print(\"O número é menor que 10\")\n"
      ]
    },
    {
      "cell_type": "code",
      "source": [
        "#02 - Escreva um programa que solicite ao usuário um número real e ao final imprima na tela se o número informado é maior ou igual a dez ou menor que 10 (dez)\n",
        "num = float(input(\"Digite um número real:\"))\n",
        "if num >= 10:\n",
        "  print(\"O número é maior ou igual a 10\")\n",
        "else:\n",
        "  print(\"O número é menor que 10\")\n",
        ""
      ],
      "metadata": {
        "colab": {
          "base_uri": "https://localhost:8080/"
        },
        "id": "ghkpge0mR-KX",
        "outputId": "be5c2125-49ac-4fd1-b772-6d955b148d30"
      },
      "execution_count": 18,
      "outputs": [
        {
          "output_type": "stream",
          "name": "stdout",
          "text": [
            "Digite um número real:1\n",
            "O número é menor que 10\n"
          ]
        }
      ]
    },
    {
      "cell_type": "code",
      "source": [
        "#03 - Elabore um algoritmo que solicite ao usuário um número real e ao final imprima na tela se o número informado é maior que dez, se é menor que dez, ou se é igual a dez\n",
        "num = float(input(\"Digite um número real:\"))\n",
        "if num > 10:\n",
        "  print(\"O número é maior que 10\")\n",
        "elif num < 10:\n",
        "  print(\"O número é menor que 10\")\n",
        "elif num == 10:\n",
        "  print(\"O número é igual a 10\")"
      ],
      "metadata": {
        "colab": {
          "base_uri": "https://localhost:8080/"
        },
        "id": "0fgiNhALSI8W",
        "outputId": "bf8a57a4-63c2-451f-d207-a1daaad514fd"
      },
      "execution_count": 19,
      "outputs": [
        {
          "output_type": "stream",
          "name": "stdout",
          "text": [
            "Digite um número real:10\n",
            "O número é igual a 10\n"
          ]
        }
      ]
    },
    {
      "cell_type": "code",
      "source": [
        "#04 - Elabore um algoritmo que solicite ao usuário um número real e ao final imprima na tela se o número informado é positivo, negativo ou nulo (zero)\n",
        "num = float(input(\"Digite um número real:\"))\n",
        "if num > 0:\n",
        "  print(\"O número é positivo\")\n",
        "elif num < 0:\n",
        "  print(\"O número é negativo\")\n",
        "elif num == 0:\n",
        "  print(\"O número é nulo\")"
      ],
      "metadata": {
        "colab": {
          "base_uri": "https://localhost:8080/"
        },
        "id": "yJ0UdZ5NSTx1",
        "outputId": "5207f3cf-5a49-4682-fb41-347fa5c98114"
      },
      "execution_count": 20,
      "outputs": [
        {
          "output_type": "stream",
          "name": "stdout",
          "text": [
            "Digite um número real:0\n",
            "O número é nulo\n"
          ]
        }
      ]
    },
    {
      "cell_type": "code",
      "source": [
        "#05 - Elabore um algoritmo que leia um número inteiro e imprima uma das mensagens: é múltiplo de 3, ou, não é múltiplo de 3\n",
        "num = int(input(\"Digite um número inteiro:\"))\n",
        "if num % 3 == 0:\n",
        "  print(\"O número é multiplo de 3\")\n",
        "else:\n",
        "  print(\"O número não é multiplo de 3\")\n"
      ],
      "metadata": {
        "colab": {
          "base_uri": "https://localhost:8080/"
        },
        "id": "1ILqZgwPSY9F",
        "outputId": "beab978c-02f0-4afa-c5f9-08a32395b8b6"
      },
      "execution_count": 21,
      "outputs": [
        {
          "output_type": "stream",
          "name": "stdout",
          "text": [
            "Digite um número inteiro:5\n",
            "O número não é multiplo de 3\n"
          ]
        }
      ]
    },
    {
      "cell_type": "code",
      "source": [
        "#06 - Refazer o exercício anterior, solicitando antes o múltiplo a ser testado\n",
        "num = int(input(\"Digite um número inteiro:\"))\n",
        "mult = int(input(\"Digite um múltiplo:\"))\n",
        "if num % mult == 0:\n",
        "  print(\"O número é multiplo do múltiplo\")\n",
        "else:\n",
        "  print(\"O número não é multiplo do múltiplo\")\n"
      ],
      "metadata": {
        "colab": {
          "base_uri": "https://localhost:8080/"
        },
        "id": "bkeK_mx9Sf_8",
        "outputId": "6e006bf8-0a63-4ced-dbd4-77ec33e361aa"
      },
      "execution_count": 22,
      "outputs": [
        {
          "output_type": "stream",
          "name": "stdout",
          "text": [
            "Digite um número inteiro:45\n",
            "Digite um múltiplo:8\n",
            "O número não é multiplo do múltiplo\n"
          ]
        }
      ]
    },
    {
      "cell_type": "code",
      "source": [
        "#07 - Desenvolva um algoritmo que classifique um número inteiro fornecido pelo usuário como par ou ímpar\n",
        "num = int(input(\"Digite um número: \"))\n",
        "if num % 2 == 0:\n",
        "  print(\"O número é par\")\n",
        "else:\n",
        "  print(\"O número é impar\")"
      ],
      "metadata": {
        "colab": {
          "base_uri": "https://localhost:8080/"
        },
        "id": "9OCJ4RLcStID",
        "outputId": "6eff86e3-57d9-4800-93f7-eb9b93883b76"
      },
      "execution_count": 23,
      "outputs": [
        {
          "output_type": "stream",
          "name": "stdout",
          "text": [
            "Digite um número: 54\n",
            "O número é par\n"
          ]
        }
      ]
    },
    {
      "cell_type": "code",
      "source": [
        "#08 - Elabore um algoritmo que leia um número, e se ele for maior do que 20, imprimir a metade desse número, caso contrário, imprimir o dobro do número\n",
        "num = float(input(\"Digite um número:\"))\n",
        "if num > 20:\n",
        "  print(\"A metade é: \", num / 2)\n",
        "else:\n",
        "  print(\"O dobro desse número é: \", num * 2)"
      ],
      "metadata": {
        "colab": {
          "base_uri": "https://localhost:8080/"
        },
        "id": "xkF_g_ZkSxRq",
        "outputId": "100b5e38-1dd3-4471-a445-e129465e13dc"
      },
      "execution_count": 10,
      "outputs": [
        {
          "output_type": "stream",
          "name": "stdout",
          "text": [
            "Digite um número:5.2\n",
            "O dobro desse número é:  10.4\n"
          ]
        }
      ]
    },
    {
      "cell_type": "code",
      "source": [
        "#09 - Elabore um algoritmo que leia dois números inteiros e realize a adição; caso o resultado seja maior que 10, imprima o quadrado do resultado, caso contrário, imprima a metade dele\n",
        "num1 = int(input(\"Digite o primeiro número:\"))\n",
        "num2 = int(input(\"Digite o segundo número: \"))\n",
        "soma = num1 + num2\n",
        "if soma > 10:\n",
        "  print(\"O quadrado desse número é: \", soma ** 2)\n",
        "else:\n",
        "  print(\"A metade desse número é: \", soma / 2)"
      ],
      "metadata": {
        "colab": {
          "base_uri": "https://localhost:8080/"
        },
        "id": "ndyxodPrS6qJ",
        "outputId": "dc4fa0c2-42a1-4209-ca9e-290969f62c73"
      },
      "execution_count": 11,
      "outputs": [
        {
          "output_type": "stream",
          "name": "stdout",
          "text": [
            "Digite o primeiro número:33\n",
            "Digite o segundo número: 45\n",
            "O quadrado desse número é:  6084\n"
          ]
        }
      ]
    },
    {
      "cell_type": "code",
      "source": [
        "#10 - O sistema de avaliação de determinada disciplina é composto por três provas. A primeira prova tem peso 2, a segunda tem peso 3 e a terceira tem peso 5. Considerando que a média para aprovação é 6.0, faça um algoritmo para calcular a média final de um aluno desta disciplina e dizer se o aluno foi aprovado ou não\n",
        "nota1 = float(input(\"Digite a primeira nota: \"))\n",
        "nota2 = float(input(\"Digite a segunda nota: \"))\n",
        "nota3 = float(input(\"Digite a terceira nota: \"))\n",
        "media = (nota1 * 2 + nota2 * 3 + nota3 * 5) / 10\n",
        "if media >= 6.0:\n",
        "  print(\"Aprovado\")\n",
        "else:\n",
        "  print(\"Reprovado\")"
      ],
      "metadata": {
        "colab": {
          "base_uri": "https://localhost:8080/"
        },
        "id": "lqRradoOTCd5",
        "outputId": "be2d1fbf-841f-4e3a-f1b1-61150adc2730"
      },
      "execution_count": 24,
      "outputs": [
        {
          "output_type": "stream",
          "name": "stdout",
          "text": [
            "Digite a primeira nota: 5\n",
            "Digite a segunda nota: 8\n",
            "Digite a terceira nota: 9\n",
            "Aprovado\n"
          ]
        }
      ]
    },
    {
      "cell_type": "code",
      "source": [
        "#11 - Elabore um algoritmo que leia o nome e o peso de duas pessoas e imprima o nome da pessoa mais pesada\n",
        "nome1 = input(\"Digite o nome da primeira pessoa: \")\n",
        "peso1 = float(input(\"Digite o peso da primeira pessoa: \"))\n",
        "nome2 = input(\"Digite o nome da segunda pessoa: \")\n",
        "peso2 = float(input(\"Digite o peso da segunda pessoa: \"))\n",
        "if peso1 > peso2:\n",
        "  print(\"A pessoa mais pesada é: \", nome1)\n",
        "else:\n",
        "  print(\"A pessoa mais pesada é: \", nome2)"
      ],
      "metadata": {
        "colab": {
          "base_uri": "https://localhost:8080/"
        },
        "id": "Po5U9-kvTKqh",
        "outputId": "88eff9ae-79ca-4440-93ae-54cb230f814a"
      },
      "execution_count": 25,
      "outputs": [
        {
          "output_type": "stream",
          "name": "stdout",
          "text": [
            "Digite o nome da primeira pessoa: yago \n",
            "Digite o peso da primeira pessoa: 85\n",
            "Digite o nome da segunda pessoa: arthur\n",
            "Digite o peso da segunda pessoa: 75\n",
            "A pessoa mais pesada é:  yago \n"
          ]
        }
      ]
    },
    {
      "cell_type": "code",
      "source": [
        "#12 - Elabore um algoritmo que indique se um número digitado está compreendido entre 20 e 90, ou não\n",
        "num = float(input(\"Digite um número: \"))\n",
        "if num >= 20 and num <= 90:\n",
        "  print(\"O número está entre 20 e 90\")\n",
        "else:\n",
        "  print(\"O número não está entre 20 e 90\")"
      ],
      "metadata": {
        "colab": {
          "base_uri": "https://localhost:8080/"
        },
        "id": "b8oANuqkTWJA",
        "outputId": "c420adec-7a4a-41c0-9321-ac7bd7a40aa5"
      },
      "execution_count": 26,
      "outputs": [
        {
          "output_type": "stream",
          "name": "stdout",
          "text": [
            "Digite um número: 87\n",
            "O número está entre 20 e 90\n"
          ]
        }
      ]
    },
    {
      "cell_type": "code",
      "source": [
        "#13 - Elabore um algoritmo que leia dois números e imprima qual é maior, qual é menor, ou se são iguais\n",
        "num1 = float(input(\"Digite o primeiro número: \"))\n",
        "num2 = float(input(\"Digite o segundo número: \"))\n",
        "if num1 > num2:\n",
        "  print(\"O primeiro número é maior que o segundo\")\n",
        "elif num1 < num2:\n",
        "  print(\"O primeiro número é menor que o segundo\")\n",
        "else:\n",
        "  print(\"Os números são iguais\")"
      ],
      "metadata": {
        "colab": {
          "base_uri": "https://localhost:8080/"
        },
        "id": "oU3r-jzNTb1n",
        "outputId": "8b51238f-149d-4734-e68d-80d1a26a98e6"
      },
      "execution_count": 27,
      "outputs": [
        {
          "output_type": "stream",
          "name": "stdout",
          "text": [
            "Digite o primeiro número: 5\n",
            "Digite o segundo número: 6\n",
            "O primeiro número é menor que o segundo\n"
          ]
        }
      ]
    },
    {
      "cell_type": "code",
      "source": [
        "#14 - Escreva um programa em linguagem C que solicite ao usuário a média para aprovação em um curso e em seguida solicite ao usuário o nome, sexo e as 03 notas do aluno e ao final imprima a frase: \"O aluno XXXXX foi aprovado com media YY\" considerando o gênero do(a) aluno(a) e se foi aprovado(a) ou reprovado(a)\n",
        "code = r'''\n",
        "#include <stdio.h>\n",
        "\n",
        "int main() {\n",
        "    float media_aprovacao, nota1, nota2, nota3, media;\n",
        "    char nome[50];\n",
        "    char sexo;\n",
        "\n",
        "    printf(\"Digite a media para aprovacao: \");\n",
        "    scanf(\"%f\", &media_aprovacao);\n",
        "\n",
        "    printf(\"Digite o nome do aluno: \");\n",
        "    scanf(\"%s\", nome);\n",
        "\n",
        "    printf(\"Digite o sexo do aluno (M/F): \");\n",
        "    scanf(\" %c\", &sexo);\n",
        "\n",
        "    printf(\"Digite as 3 notas do aluno: \");\n",
        "    scanf(\"%f %f %f\", &nota1, &nota2, &nota3);\n",
        "\n",
        "    media = (nota1 + nota2 + nota3) / 3.0;\n",
        "\n",
        "    if (media >= media_aprovacao) {\n",
        "        if (sexo == 'M' || sexo == 'm') {\n",
        "            printf(\"O aluno %s foi aprovado com media %.2f\\n\", nome, media);\n",
        "        } else {\n",
        "            printf(\"A aluna %s foi aprovada com media %.2f\\n\", nome, media);\n",
        "        }\n",
        "    } else {\n",
        "        if (sexo == 'M' || sexo == 'm') {\n",
        "            printf(\"O aluno %s foi reprovado com media %.2f\\n\", nome, media);\n",
        "        } else {\n",
        "            printf(\"A aluna %s foi reprovada com media %.2f\\n\", nome, media);\n",
        "        }\n",
        "    }\n",
        "\n",
        "    return 0;\n",
        "}\n",
        "'''\n",
        "\n",
        "\n",
        "with open(\"aluno.c\", \"w\") as f:\n",
        "    f.write(code)\n",
        "\n",
        "\n",
        "!gcc aluno.c -o aluno\n",
        "\n",
        "\n",
        "!./aluno"
      ],
      "metadata": {
        "colab": {
          "base_uri": "https://localhost:8080/"
        },
        "id": "g3tdOW5pTiX2",
        "outputId": "268c01bf-0bd7-4061-eecd-78a93563b7f1"
      },
      "execution_count": 28,
      "outputs": [
        {
          "output_type": "stream",
          "name": "stdout",
          "text": [
            "Digite a media para aprovacao: 4\n",
            "Digite o nome do aluno: yago\n",
            "Digite o sexo do aluno (M/F): masculino\n",
            "Digite as 3 notas do aluno: O aluno yago foi reprovado com media 0.00\n"
          ]
        }
      ]
    }
  ]
}